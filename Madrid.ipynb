{
 "cells": [
  {
   "cell_type": "code",
   "execution_count": 2,
   "metadata": {},
   "outputs": [],
   "source": [
    "import pandas as pd\n",
    "import numpy as np\n",
    "import matplotlib.pyplot as plt\n",
    "import seaborn as sns\n",
    "import plotly.express as px\n",
    "\n",
    "pd.options.display.float_format = '{:,.2f}'.format\n",
    "pd.options.display.max_columns = None\n",
    "pd.options.display.max_rows = None"
   ]
  },
  {
   "cell_type": "code",
   "execution_count": 3,
   "metadata": {},
   "outputs": [],
   "source": [
    "data = pd.read_csv('Database/Madrid.csv')"
   ]
  },
  {
   "cell_type": "code",
   "execution_count": 4,
   "metadata": {},
   "outputs": [
    {
     "name": "stdout",
     "output_type": "stream",
     "text": [
      "<class 'pandas.core.frame.DataFrame'>\n",
      "RangeIndex: 21742 entries, 0 to 21741\n",
      "Data columns (total 58 columns):\n",
      " #   Column                        Non-Null Count  Dtype  \n",
      "---  ------                        --------------  -----  \n",
      " 0   Unnamed: 0                    21742 non-null  int64  \n",
      " 1   id                            21742 non-null  int64  \n",
      " 2   title                         21742 non-null  object \n",
      " 3   subtitle                      21742 non-null  object \n",
      " 4   sq_mt_built                   21616 non-null  float64\n",
      " 5   sq_mt_useful                  8228 non-null   float64\n",
      " 6   n_rooms                       21742 non-null  int64  \n",
      " 7   n_bathrooms                   21726 non-null  float64\n",
      " 8   n_floors                      1437 non-null   float64\n",
      " 9   sq_mt_allotment               1432 non-null   float64\n",
      " 10  latitude                      0 non-null      float64\n",
      " 11  longitude                     0 non-null      float64\n",
      " 12  raw_address                   16277 non-null  object \n",
      " 13  is_exact_address_hidden       21742 non-null  bool   \n",
      " 14  street_name                   15837 non-null  object \n",
      " 15  street_number                 6300 non-null   object \n",
      " 16  portal                        0 non-null      float64\n",
      " 17  floor                         19135 non-null  object \n",
      " 18  is_floor_under                20572 non-null  object \n",
      " 19  door                          0 non-null      float64\n",
      " 20  neighborhood_id               21742 non-null  object \n",
      " 21  operation                     21742 non-null  object \n",
      " 22  rent_price                    21742 non-null  int64  \n",
      " 23  rent_price_by_area            0 non-null      float64\n",
      " 24  is_rent_price_known           21742 non-null  bool   \n",
      " 25  buy_price                     21742 non-null  int64  \n",
      " 26  buy_price_by_area             21742 non-null  int64  \n",
      " 27  is_buy_price_known            21742 non-null  bool   \n",
      " 28  house_type_id                 21351 non-null  object \n",
      " 29  is_renewal_needed             21742 non-null  bool   \n",
      " 30  is_new_development            20750 non-null  object \n",
      " 31  built_year                    10000 non-null  float64\n",
      " 32  has_central_heating           13608 non-null  object \n",
      " 33  has_individual_heating        13608 non-null  object \n",
      " 34  are_pets_allowed              0 non-null      float64\n",
      " 35  has_ac                        11211 non-null  object \n",
      " 36  has_fitted_wardrobes          13399 non-null  object \n",
      " 37  has_lift                      19356 non-null  object \n",
      " 38  is_exterior                   18699 non-null  object \n",
      " 39  has_garden                    1556 non-null   object \n",
      " 40  has_pool                      5171 non-null   object \n",
      " 41  has_terrace                   9548 non-null   object \n",
      " 42  has_balcony                   3321 non-null   object \n",
      " 43  has_storage_room              7698 non-null   object \n",
      " 44  is_furnished                  0 non-null      float64\n",
      " 45  is_kitchen_equipped           0 non-null      float64\n",
      " 46  is_accessible                 4074 non-null   object \n",
      " 47  has_green_zones               4057 non-null   object \n",
      " 48  energy_certificate            21742 non-null  object \n",
      " 49  has_parking                   21742 non-null  bool   \n",
      " 50  has_private_parking           0 non-null      float64\n",
      " 51  has_public_parking            0 non-null      float64\n",
      " 52  is_parking_included_in_price  7719 non-null   object \n",
      " 53  parking_price                 7719 non-null   float64\n",
      " 54  is_orientation_north          11358 non-null  object \n",
      " 55  is_orientation_west           11358 non-null  object \n",
      " 56  is_orientation_south          11358 non-null  object \n",
      " 57  is_orientation_east           11358 non-null  object \n",
      "dtypes: bool(5), float64(17), int64(6), object(30)\n",
      "memory usage: 8.9+ MB\n"
     ]
    }
   ],
   "source": [
    "data.info()"
   ]
  },
  {
   "cell_type": "code",
   "execution_count": 5,
   "metadata": {},
   "outputs": [
    {
     "name": "stdout",
     "output_type": "stream",
     "text": [
      "<class 'pandas.core.frame.DataFrame'>\n",
      "RangeIndex: 21742 entries, 0 to 21741\n",
      "Data columns (total 48 columns):\n",
      " #   Column                        Non-Null Count  Dtype  \n",
      "---  ------                        --------------  -----  \n",
      " 0   Unnamed: 0                    21742 non-null  int64  \n",
      " 1   id                            21742 non-null  int64  \n",
      " 2   title                         21742 non-null  object \n",
      " 3   subtitle                      21742 non-null  object \n",
      " 4   sq_mt_built                   21616 non-null  float64\n",
      " 5   sq_mt_useful                  8228 non-null   float64\n",
      " 6   n_rooms                       21742 non-null  int64  \n",
      " 7   n_bathrooms                   21726 non-null  float64\n",
      " 8   n_floors                      1437 non-null   float64\n",
      " 9   sq_mt_allotment               1432 non-null   float64\n",
      " 10  raw_address                   16277 non-null  object \n",
      " 11  is_exact_address_hidden       21742 non-null  bool   \n",
      " 12  street_name                   15837 non-null  object \n",
      " 13  street_number                 6300 non-null   object \n",
      " 14  floor                         19135 non-null  object \n",
      " 15  is_floor_under                20572 non-null  object \n",
      " 16  neighborhood_id               21742 non-null  object \n",
      " 17  operation                     21742 non-null  object \n",
      " 18  rent_price                    21742 non-null  int64  \n",
      " 19  is_rent_price_known           21742 non-null  bool   \n",
      " 20  buy_price                     21742 non-null  int64  \n",
      " 21  buy_price_by_area             21742 non-null  int64  \n",
      " 22  is_buy_price_known            21742 non-null  bool   \n",
      " 23  house_type_id                 21351 non-null  object \n",
      " 24  is_renewal_needed             21742 non-null  bool   \n",
      " 25  is_new_development            20750 non-null  object \n",
      " 26  built_year                    10000 non-null  float64\n",
      " 27  has_central_heating           13608 non-null  object \n",
      " 28  has_individual_heating        13608 non-null  object \n",
      " 29  has_ac                        11211 non-null  object \n",
      " 30  has_fitted_wardrobes          13399 non-null  object \n",
      " 31  has_lift                      19356 non-null  object \n",
      " 32  is_exterior                   18699 non-null  object \n",
      " 33  has_garden                    1556 non-null   object \n",
      " 34  has_pool                      5171 non-null   object \n",
      " 35  has_terrace                   9548 non-null   object \n",
      " 36  has_balcony                   3321 non-null   object \n",
      " 37  has_storage_room              7698 non-null   object \n",
      " 38  is_accessible                 4074 non-null   object \n",
      " 39  has_green_zones               4057 non-null   object \n",
      " 40  energy_certificate            21742 non-null  object \n",
      " 41  has_parking                   21742 non-null  bool   \n",
      " 42  is_parking_included_in_price  7719 non-null   object \n",
      " 43  parking_price                 7719 non-null   float64\n",
      " 44  is_orientation_north          11358 non-null  object \n",
      " 45  is_orientation_west           11358 non-null  object \n",
      " 46  is_orientation_south          11358 non-null  object \n",
      " 47  is_orientation_east           11358 non-null  object \n",
      "dtypes: bool(5), float64(7), int64(6), object(30)\n",
      "memory usage: 7.2+ MB\n"
     ]
    }
   ],
   "source": [
    "data = data.dropna(axis=1, how='all')\n",
    "data.info()"
   ]
  },
  {
   "cell_type": "code",
   "execution_count": 6,
   "metadata": {},
   "outputs": [
    {
     "data": {
      "text/plain": [
       "np.int64(0)"
      ]
     },
     "execution_count": 6,
     "metadata": {},
     "output_type": "execute_result"
    }
   ],
   "source": [
    "data.duplicated().sum()"
   ]
  },
  {
   "cell_type": "code",
   "execution_count": 7,
   "metadata": {},
   "outputs": [
    {
     "name": "stdout",
     "output_type": "stream",
     "text": [
      "<class 'pandas.core.frame.DataFrame'>\n",
      "RangeIndex: 21742 entries, 0 to 21741\n",
      "Data columns (total 13 columns):\n",
      " #   Column             Non-Null Count  Dtype  \n",
      "---  ------             --------------  -----  \n",
      " 0   id                 21742 non-null  int64  \n",
      " 1   subtitle           21742 non-null  object \n",
      " 2   sq_mt_built        21616 non-null  float64\n",
      " 3   sq_mt_useful       8228 non-null   float64\n",
      " 4   n_rooms            21742 non-null  int64  \n",
      " 5   n_bathrooms        21726 non-null  float64\n",
      " 6   n_floors           1437 non-null   float64\n",
      " 7   sq_mt_allotment    1432 non-null   float64\n",
      " 8   rent_price         21742 non-null  int64  \n",
      " 9   buy_price          21742 non-null  int64  \n",
      " 10  buy_price_by_area  21742 non-null  int64  \n",
      " 11  built_year         10000 non-null  float64\n",
      " 12  parking_price      7719 non-null   float64\n",
      "dtypes: float64(7), int64(5), object(1)\n",
      "memory usage: 2.2+ MB\n"
     ]
    }
   ],
   "source": [
    "df = data[['id', 'subtitle', 'sq_mt_built', 'sq_mt_useful','n_rooms', 'n_bathrooms', 'n_floors', 'sq_mt_allotment', 'rent_price', 'buy_price', 'buy_price_by_area','built_year','parking_price']]\n",
    "df.info()"
   ]
  },
  {
   "cell_type": "code",
   "execution_count": 8,
   "metadata": {},
   "outputs": [],
   "source": [
    "df = df.rename(columns={'subtitle':'city'})"
   ]
  },
  {
   "cell_type": "code",
   "execution_count": 9,
   "metadata": {},
   "outputs": [
    {
     "name": "stdout",
     "output_type": "stream",
     "text": [
      "<class 'pandas.core.frame.DataFrame'>\n",
      "RangeIndex: 21742 entries, 0 to 21741\n",
      "Data columns (total 8 columns):\n",
      " #   Column             Non-Null Count  Dtype  \n",
      "---  ------             --------------  -----  \n",
      " 0   id                 21742 non-null  int64  \n",
      " 1   city               21742 non-null  object \n",
      " 2   sq_mt_built        21616 non-null  float64\n",
      " 3   n_rooms            21742 non-null  int64  \n",
      " 4   n_bathrooms        21726 non-null  float64\n",
      " 5   rent_price         21742 non-null  int64  \n",
      " 6   buy_price          21742 non-null  int64  \n",
      " 7   buy_price_by_area  21742 non-null  int64  \n",
      "dtypes: float64(2), int64(5), object(1)\n",
      "memory usage: 1.3+ MB\n"
     ]
    }
   ],
   "source": [
    "df = df[['id', 'city','sq_mt_built','n_rooms','n_bathrooms','rent_price','buy_price', 'buy_price_by_area']]\n",
    "df.info()"
   ]
  },
  {
   "cell_type": "code",
   "execution_count": 10,
   "metadata": {},
   "outputs": [
    {
     "data": {
      "text/plain": [
       "count   21,742.00\n",
       "mean         3.01\n",
       "std          1.51\n",
       "min          0.00\n",
       "25%          2.00\n",
       "50%          3.00\n",
       "75%          4.00\n",
       "max         24.00\n",
       "Name: n_rooms, dtype: float64"
      ]
     },
     "execution_count": 10,
     "metadata": {},
     "output_type": "execute_result"
    }
   ],
   "source": [
    "df['n_rooms'].describe()"
   ]
  },
  {
   "cell_type": "code",
   "execution_count": 11,
   "metadata": {},
   "outputs": [],
   "source": [
    "df.drop(df.index[df['n_rooms'] == 0], axis=0, inplace = True)"
   ]
  },
  {
   "cell_type": "code",
   "execution_count": 12,
   "metadata": {},
   "outputs": [
    {
     "data": {
      "text/plain": [
       "0   1.00\n",
       "Name: n_bathrooms, dtype: float64"
      ]
     },
     "execution_count": 12,
     "metadata": {},
     "output_type": "execute_result"
    }
   ],
   "source": [
    "df['n_bathrooms'].mode()"
   ]
  },
  {
   "cell_type": "code",
   "execution_count": 13,
   "metadata": {},
   "outputs": [],
   "source": [
    "df['n_bathrooms'] = df['n_bathrooms'].fillna(1)\n",
    "df['n_bathrooms'] = df['n_bathrooms'].replace(0,1)\n",
    "df['n_bathrooms'] = df['n_bathrooms'].astype(int)"
   ]
  },
  {
   "cell_type": "code",
   "execution_count": 14,
   "metadata": {},
   "outputs": [
    {
     "name": "stdout",
     "output_type": "stream",
     "text": [
      "<class 'pandas.core.frame.DataFrame'>\n",
      "Index: 21303 entries, 0 to 21741\n",
      "Data columns (total 8 columns):\n",
      " #   Column             Non-Null Count  Dtype  \n",
      "---  ------             --------------  -----  \n",
      " 0   id                 21303 non-null  int64  \n",
      " 1   city               21303 non-null  object \n",
      " 2   sq_mt_built        21177 non-null  float64\n",
      " 3   n_rooms            21303 non-null  int64  \n",
      " 4   n_bathrooms        21303 non-null  int64  \n",
      " 5   rent_price         21303 non-null  int64  \n",
      " 6   buy_price          21303 non-null  int64  \n",
      " 7   buy_price_by_area  21303 non-null  int64  \n",
      "dtypes: float64(1), int64(6), object(1)\n",
      "memory usage: 1.5+ MB\n"
     ]
    }
   ],
   "source": [
    "df.info()"
   ]
  },
  {
   "cell_type": "code",
   "execution_count": 15,
   "metadata": {},
   "outputs": [],
   "source": [
    "df.dropna(subset=['sq_mt_built'], inplace=True)"
   ]
  },
  {
   "cell_type": "code",
   "execution_count": 16,
   "metadata": {},
   "outputs": [
    {
     "name": "stdout",
     "output_type": "stream",
     "text": [
      "<class 'pandas.core.frame.DataFrame'>\n",
      "Index: 21177 entries, 0 to 21741\n",
      "Data columns (total 8 columns):\n",
      " #   Column             Non-Null Count  Dtype  \n",
      "---  ------             --------------  -----  \n",
      " 0   id                 21177 non-null  int64  \n",
      " 1   city               21177 non-null  object \n",
      " 2   sq_mt_built        21177 non-null  float64\n",
      " 3   n_rooms            21177 non-null  int64  \n",
      " 4   n_bathrooms        21177 non-null  int64  \n",
      " 5   rent_price         21177 non-null  int64  \n",
      " 6   buy_price          21177 non-null  int64  \n",
      " 7   buy_price_by_area  21177 non-null  int64  \n",
      "dtypes: float64(1), int64(6), object(1)\n",
      "memory usage: 1.5+ MB\n"
     ]
    }
   ],
   "source": [
    "df.info()"
   ]
  },
  {
   "cell_type": "code",
   "execution_count": 17,
   "metadata": {},
   "outputs": [],
   "source": [
    "for value in df['rent_price']:\n",
    "    if value < 0:\n",
    "        df['rent_price'] = 0"
   ]
  },
  {
   "cell_type": "code",
   "execution_count": 19,
   "metadata": {},
   "outputs": [],
   "source": [
    "df['district'] = df['city'].str.split(',', expand=True)[0]"
   ]
  },
  {
   "cell_type": "code",
   "execution_count": 22,
   "metadata": {},
   "outputs": [],
   "source": [
    "df = df[['id', 'district', 'sq_mt_built', 'n_rooms', 'n_bathrooms', 'rent_price',\n",
    "       'buy_price', 'buy_price_by_area']]"
   ]
  },
  {
   "cell_type": "code",
   "execution_count": 23,
   "metadata": {},
   "outputs": [
    {
     "data": {
      "text/html": [
       "<div>\n",
       "<style scoped>\n",
       "    .dataframe tbody tr th:only-of-type {\n",
       "        vertical-align: middle;\n",
       "    }\n",
       "\n",
       "    .dataframe tbody tr th {\n",
       "        vertical-align: top;\n",
       "    }\n",
       "\n",
       "    .dataframe thead th {\n",
       "        text-align: right;\n",
       "    }\n",
       "</style>\n",
       "<table border=\"1\" class=\"dataframe\">\n",
       "  <thead>\n",
       "    <tr style=\"text-align: right;\">\n",
       "      <th></th>\n",
       "      <th>id</th>\n",
       "      <th>district</th>\n",
       "      <th>sq_mt_built</th>\n",
       "      <th>n_rooms</th>\n",
       "      <th>n_bathrooms</th>\n",
       "      <th>rent_price</th>\n",
       "      <th>buy_price</th>\n",
       "      <th>buy_price_by_area</th>\n",
       "    </tr>\n",
       "  </thead>\n",
       "  <tbody>\n",
       "    <tr>\n",
       "      <th>0</th>\n",
       "      <td>21742</td>\n",
       "      <td>San Cristóbal</td>\n",
       "      <td>64.00</td>\n",
       "      <td>2</td>\n",
       "      <td>1</td>\n",
       "      <td>0</td>\n",
       "      <td>85000</td>\n",
       "      <td>1328</td>\n",
       "    </tr>\n",
       "    <tr>\n",
       "      <th>1</th>\n",
       "      <td>21741</td>\n",
       "      <td>Los Ángeles</td>\n",
       "      <td>70.00</td>\n",
       "      <td>3</td>\n",
       "      <td>1</td>\n",
       "      <td>0</td>\n",
       "      <td>129900</td>\n",
       "      <td>1856</td>\n",
       "    </tr>\n",
       "    <tr>\n",
       "      <th>2</th>\n",
       "      <td>21740</td>\n",
       "      <td>San Andrés</td>\n",
       "      <td>94.00</td>\n",
       "      <td>2</td>\n",
       "      <td>2</td>\n",
       "      <td>0</td>\n",
       "      <td>144247</td>\n",
       "      <td>1535</td>\n",
       "    </tr>\n",
       "    <tr>\n",
       "      <th>3</th>\n",
       "      <td>21739</td>\n",
       "      <td>San Andrés</td>\n",
       "      <td>64.00</td>\n",
       "      <td>2</td>\n",
       "      <td>1</td>\n",
       "      <td>0</td>\n",
       "      <td>109900</td>\n",
       "      <td>1717</td>\n",
       "    </tr>\n",
       "    <tr>\n",
       "      <th>4</th>\n",
       "      <td>21738</td>\n",
       "      <td>Los Rosales</td>\n",
       "      <td>108.00</td>\n",
       "      <td>2</td>\n",
       "      <td>2</td>\n",
       "      <td>0</td>\n",
       "      <td>260000</td>\n",
       "      <td>2407</td>\n",
       "    </tr>\n",
       "  </tbody>\n",
       "</table>\n",
       "</div>"
      ],
      "text/plain": [
       "      id       district  sq_mt_built  n_rooms  n_bathrooms  rent_price  \\\n",
       "0  21742  San Cristóbal        64.00        2            1           0   \n",
       "1  21741    Los Ángeles        70.00        3            1           0   \n",
       "2  21740     San Andrés        94.00        2            2           0   \n",
       "3  21739     San Andrés        64.00        2            1           0   \n",
       "4  21738    Los Rosales       108.00        2            2           0   \n",
       "\n",
       "   buy_price  buy_price_by_area  \n",
       "0      85000               1328  \n",
       "1     129900               1856  \n",
       "2     144247               1535  \n",
       "3     109900               1717  \n",
       "4     260000               2407  "
      ]
     },
     "execution_count": 23,
     "metadata": {},
     "output_type": "execute_result"
    }
   ],
   "source": [
    "df.head()"
   ]
  },
  {
   "cell_type": "code",
   "execution_count": 29,
   "metadata": {},
   "outputs": [
    {
     "name": "stdout",
     "output_type": "stream",
     "text": [
      "<class 'pandas.core.frame.DataFrame'>\n",
      "Index: 21177 entries, 0 to 21741\n",
      "Data columns (total 7 columns):\n",
      " #   Column             Non-Null Count  Dtype  \n",
      "---  ------             --------------  -----  \n",
      " 0   id                 21177 non-null  int64  \n",
      " 1   district           21177 non-null  object \n",
      " 2   sq_mt_built        21177 non-null  float64\n",
      " 3   n_rooms            21177 non-null  int64  \n",
      " 4   n_bathrooms        21177 non-null  int64  \n",
      " 5   buy_price          21177 non-null  int64  \n",
      " 6   buy_price_by_area  21177 non-null  int64  \n",
      "dtypes: float64(1), int64(5), object(1)\n",
      "memory usage: 1.3+ MB\n"
     ]
    }
   ],
   "source": [
    "df.info()"
   ]
  },
  {
   "cell_type": "code",
   "execution_count": 30,
   "metadata": {},
   "outputs": [],
   "source": [
    "df.to_csv('Database/Madrid_clean.csv', index=False)"
   ]
  }
 ],
 "metadata": {
  "kernelspec": {
   "display_name": "Python 3",
   "language": "python",
   "name": "python3"
  },
  "language_info": {
   "codemirror_mode": {
    "name": "ipython",
    "version": 3
   },
   "file_extension": ".py",
   "mimetype": "text/x-python",
   "name": "python",
   "nbconvert_exporter": "python",
   "pygments_lexer": "ipython3",
   "version": "3.13.0"
  }
 },
 "nbformat": 4,
 "nbformat_minor": 2
}
